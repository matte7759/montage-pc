{
  "nbformat": 4,
  "nbformat_minor": 0,
  "metadata": {
    "colab": {
      "provenance": [],
      "authorship_tag": "ABX9TyNp0mJQMyiWwYDUYLOI8TG3",
      "include_colab_link": true
    },
    "kernelspec": {
      "name": "python3",
      "display_name": "Python 3"
    },
    "language_info": {
      "name": "python"
    }
  },
  "cells": [
    {
      "cell_type": "markdown",
      "metadata": {
        "id": "view-in-github",
        "colab_type": "text"
      },
      "source": [
        "<a href=\"https://colab.research.google.com/github/matte7759/montage-pc/blob/achat/test.ipynb\" target=\"_parent\"><img src=\"https://colab.research.google.com/assets/colab-badge.svg\" alt=\"Open In Colab\"/></a>"
      ]
    },
    {
      "cell_type": "code",
      "execution_count": 1,
      "metadata": {
        "colab": {
          "base_uri": "https://localhost:8080/"
        },
        "id": "EUUIFTZ2P7Nc",
        "outputId": "0b3b8166-e25b-4a6f-ae48-186626856872"
      },
      "outputs": [
        {
          "output_type": "stream",
          "name": "stdout",
          "text": [
            "H!e!l!l!o! !W!o!r!l!d!\n"
          ]
        }
      ],
      "source": [
        "\n",
        "phrase = 'Hello World'\n",
        "ravi = True\n",
        "\n",
        "nouvelle_phrase = ''\n",
        "for caractere in phrase:\n",
        "    nouvelle_phrase += caractere\n",
        "    if ravi:\n",
        "        nouvelle_phrase += '!'\n",
        "\n",
        "phrase = nouvelle_phrase\n",
        "print(phrase)"
      ]
    }
  ]
}